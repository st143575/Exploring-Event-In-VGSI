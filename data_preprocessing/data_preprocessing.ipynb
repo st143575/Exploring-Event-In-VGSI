{
 "cells": [
  {
   "cell_type": "markdown",
   "id": "81a22446",
   "metadata": {},
   "source": [
    "# Data Preprocessing  \n",
    "(1) Build dataframe from the json file.  \n",
    "(2) Remove the two data points from the dataframe whose goals contain non-english words.  \n",
    "(3) Remove the methods 1926747_3, 2191502_0 and 985548_2 together with their steps from the dataframe.  \n",
    "(4) Write the preprocessed dataframe object to a .p file for later usage."
   ]
  },
  {
   "cell_type": "code",
   "execution_count": 1,
   "id": "ceb070ec",
   "metadata": {},
   "outputs": [],
   "source": [
    "import utils\n",
    "import pandas as pd\n",
    "import dill as pickle"
   ]
  },
  {
   "cell_type": "markdown",
   "id": "c3093bf6",
   "metadata": {},
   "source": [
    "### (1) Build dataframe from the json file."
   ]
  },
  {
   "cell_type": "code",
   "execution_count": 3,
   "id": "402f7ddd",
   "metadata": {},
   "outputs": [
    {
     "name": "stdout",
     "output_type": "stream",
     "text": [
      "The default path for the textual data is:\n",
      "    '/mount/studenten/arbeitsdaten-studenten1/shencg/BA/models/VGSI/WikihowText_data.json'\n",
      "Please adapt it if your textual data is stored under a different path.\n",
      "\n"
     ]
    }
   ],
   "source": [
    "# Load the json file.\n",
    "articles = utils.load_text(mode='uncased', path='../data/preprocessing/WikihowText_data.json')\n",
    "\n",
    "# Create a dataframe from it.\n",
    "articles_df = pd.json_normalize(articles)"
   ]
  },
  {
   "cell_type": "code",
   "execution_count": 3,
   "id": "f34f3430",
   "metadata": {},
   "outputs": [
    {
     "data": {
      "text/html": [
       "<div>\n",
       "<style scoped>\n",
       "    .dataframe tbody tr th:only-of-type {\n",
       "        vertical-align: middle;\n",
       "    }\n",
       "\n",
       "    .dataframe tbody tr th {\n",
       "        vertical-align: top;\n",
       "    }\n",
       "\n",
       "    .dataframe thead th {\n",
       "        text-align: right;\n",
       "    }\n",
       "</style>\n",
       "<table border=\"1\" class=\"dataframe\">\n",
       "  <thead>\n",
       "    <tr style=\"text-align: right;\">\n",
       "      <th></th>\n",
       "      <th>file_id</th>\n",
       "      <th>goal</th>\n",
       "      <th>goal_description</th>\n",
       "      <th>category_hierarchy</th>\n",
       "      <th>methods</th>\n",
       "    </tr>\n",
       "  </thead>\n",
       "  <tbody>\n",
       "    <tr>\n",
       "      <th>0</th>\n",
       "      <td>10000798</td>\n",
       "      <td>how to hang an ironing board</td>\n",
       "      <td>for people who like to have an organized and c...</td>\n",
       "      <td>[home and garden, housekeeping, home organizat...</td>\n",
       "      <td>[{'name': 'hanging an ironing board over a doo...</td>\n",
       "    </tr>\n",
       "    <tr>\n",
       "      <th>1</th>\n",
       "      <td>10000832</td>\n",
       "      <td>how to plant lavender in pots</td>\n",
       "      <td>lavender plants are beautiful and fragrant pla...</td>\n",
       "      <td>[home and garden, gardening, indoor and patio ...</td>\n",
       "      <td>[{'name': 'setting up the right growing condit...</td>\n",
       "    </tr>\n",
       "    <tr>\n",
       "      <th>2</th>\n",
       "      <td>10002000</td>\n",
       "      <td>how to deal with talkative students</td>\n",
       "      <td>delivering the day’s lesson to your class can ...</td>\n",
       "      <td>[education and communications, teaching, class...</td>\n",
       "      <td>[{'name': 'redirecting talkative students', 's...</td>\n",
       "    </tr>\n",
       "    <tr>\n",
       "      <th>3</th>\n",
       "      <td>100021</td>\n",
       "      <td>how to make a dress</td>\n",
       "      <td>ever seen a really gorgeous dress on the runwa...</td>\n",
       "      <td>[personal care and style, clothing, clothes by...</td>\n",
       "      <td>[{'name': 'starting your dress', 'steps': [{'h...</td>\n",
       "    </tr>\n",
       "    <tr>\n",
       "      <th>4</th>\n",
       "      <td>1000266</td>\n",
       "      <td>how to avoid dangerous dog toys</td>\n",
       "      <td>None</td>\n",
       "      <td>[pets and animals, dogs, dog toys and play]</td>\n",
       "      <td>[{'name': 'finding the right toys', 'steps': [...</td>\n",
       "    </tr>\n",
       "    <tr>\n",
       "      <th>...</th>\n",
       "      <td>...</td>\n",
       "      <td>...</td>\n",
       "      <td>...</td>\n",
       "      <td>...</td>\n",
       "      <td>...</td>\n",
       "    </tr>\n",
       "    <tr>\n",
       "      <th>53184</th>\n",
       "      <td>9997212</td>\n",
       "      <td>how to obtain a turkish visa</td>\n",
       "      <td>None</td>\n",
       "      <td>[travel, destinations, asia travel]</td>\n",
       "      <td>[{'name': 'following general application proce...</td>\n",
       "    </tr>\n",
       "    <tr>\n",
       "      <th>53185</th>\n",
       "      <td>9997262</td>\n",
       "      <td>how to relieve a hypertension headache</td>\n",
       "      <td>None</td>\n",
       "      <td>[health, cardiovascular system health, blood h...</td>\n",
       "      <td>[{'name': 'responding immediately to a headach...</td>\n",
       "    </tr>\n",
       "    <tr>\n",
       "      <th>53186</th>\n",
       "      <td>9997619</td>\n",
       "      <td>how to hide electrical outlets</td>\n",
       "      <td>although essential, electrical outlets can be ...</td>\n",
       "      <td>[home and garden, home maintenance, electrical...</td>\n",
       "      <td>[{'name': 'covering outlets', 'steps': [{'head...</td>\n",
       "    </tr>\n",
       "    <tr>\n",
       "      <th>53187</th>\n",
       "      <td>9997744</td>\n",
       "      <td>how to hang a volleyball net</td>\n",
       "      <td>whether played indoors or outdoors, volleyball...</td>\n",
       "      <td>[sports and fitness, team sports, volleyball]</td>\n",
       "      <td>[{'name': 'securing indoor posts', 'steps': [{...</td>\n",
       "    </tr>\n",
       "    <tr>\n",
       "      <th>53188</th>\n",
       "      <td>9997847</td>\n",
       "      <td>how to keep owls away from chickens</td>\n",
       "      <td>just like hawks, owls are predatory birds that...</td>\n",
       "      <td>[home and garden, housekeeping, pest control, ...</td>\n",
       "      <td>[{'name': 'taking preventative measures', 'ste...</td>\n",
       "    </tr>\n",
       "  </tbody>\n",
       "</table>\n",
       "<p>53189 rows × 5 columns</p>\n",
       "</div>"
      ],
      "text/plain": [
       "        file_id                                    goal  \\\n",
       "0      10000798            how to hang an ironing board   \n",
       "1      10000832           how to plant lavender in pots   \n",
       "2      10002000     how to deal with talkative students   \n",
       "3        100021                     how to make a dress   \n",
       "4       1000266         how to avoid dangerous dog toys   \n",
       "...         ...                                     ...   \n",
       "53184   9997212            how to obtain a turkish visa   \n",
       "53185   9997262  how to relieve a hypertension headache   \n",
       "53186   9997619          how to hide electrical outlets   \n",
       "53187   9997744            how to hang a volleyball net   \n",
       "53188   9997847     how to keep owls away from chickens   \n",
       "\n",
       "                                        goal_description  \\\n",
       "0      for people who like to have an organized and c...   \n",
       "1      lavender plants are beautiful and fragrant pla...   \n",
       "2      delivering the day’s lesson to your class can ...   \n",
       "3      ever seen a really gorgeous dress on the runwa...   \n",
       "4                                                   None   \n",
       "...                                                  ...   \n",
       "53184                                               None   \n",
       "53185                                               None   \n",
       "53186  although essential, electrical outlets can be ...   \n",
       "53187  whether played indoors or outdoors, volleyball...   \n",
       "53188  just like hawks, owls are predatory birds that...   \n",
       "\n",
       "                                      category_hierarchy  \\\n",
       "0      [home and garden, housekeeping, home organizat...   \n",
       "1      [home and garden, gardening, indoor and patio ...   \n",
       "2      [education and communications, teaching, class...   \n",
       "3      [personal care and style, clothing, clothes by...   \n",
       "4            [pets and animals, dogs, dog toys and play]   \n",
       "...                                                  ...   \n",
       "53184                [travel, destinations, asia travel]   \n",
       "53185  [health, cardiovascular system health, blood h...   \n",
       "53186  [home and garden, home maintenance, electrical...   \n",
       "53187      [sports and fitness, team sports, volleyball]   \n",
       "53188  [home and garden, housekeeping, pest control, ...   \n",
       "\n",
       "                                                 methods  \n",
       "0      [{'name': 'hanging an ironing board over a doo...  \n",
       "1      [{'name': 'setting up the right growing condit...  \n",
       "2      [{'name': 'redirecting talkative students', 's...  \n",
       "3      [{'name': 'starting your dress', 'steps': [{'h...  \n",
       "4      [{'name': 'finding the right toys', 'steps': [...  \n",
       "...                                                  ...  \n",
       "53184  [{'name': 'following general application proce...  \n",
       "53185  [{'name': 'responding immediately to a headach...  \n",
       "53186  [{'name': 'covering outlets', 'steps': [{'head...  \n",
       "53187  [{'name': 'securing indoor posts', 'steps': [{...  \n",
       "53188  [{'name': 'taking preventative measures', 'ste...  \n",
       "\n",
       "[53189 rows x 5 columns]"
      ]
     },
     "execution_count": 3,
     "metadata": {},
     "output_type": "execute_result"
    }
   ],
   "source": [
    "articles_df"
   ]
  },
  {
   "cell_type": "code",
   "execution_count": 4,
   "id": "ce31d749",
   "metadata": {
    "scrolled": true
   },
   "outputs": [
    {
     "data": {
      "text/html": [
       "<div>\n",
       "<style scoped>\n",
       "    .dataframe tbody tr th:only-of-type {\n",
       "        vertical-align: middle;\n",
       "    }\n",
       "\n",
       "    .dataframe tbody tr th {\n",
       "        vertical-align: top;\n",
       "    }\n",
       "\n",
       "    .dataframe thead th {\n",
       "        text-align: right;\n",
       "    }\n",
       "</style>\n",
       "<table border=\"1\" class=\"dataframe\">\n",
       "  <thead>\n",
       "    <tr style=\"text-align: right;\">\n",
       "      <th></th>\n",
       "      <th>file_id</th>\n",
       "      <th>goal</th>\n",
       "      <th>goal_description</th>\n",
       "      <th>category_hierarchy</th>\n",
       "      <th>methods</th>\n",
       "    </tr>\n",
       "  </thead>\n",
       "  <tbody>\n",
       "    <tr>\n",
       "      <th>27502</th>\n",
       "      <td>385799</td>\n",
       "      <td>how to make Éclairs</td>\n",
       "      <td>None</td>\n",
       "      <td>[food and entertaining, recipes, baking, pastr...</td>\n",
       "      <td>[{'name': 'making the custard', 'steps': [{'he...</td>\n",
       "    </tr>\n",
       "  </tbody>\n",
       "</table>\n",
       "</div>"
      ],
      "text/plain": [
       "      file_id                 goal goal_description  \\\n",
       "27502  385799  how to make Éclairs             None   \n",
       "\n",
       "                                      category_hierarchy  \\\n",
       "27502  [food and entertaining, recipes, baking, pastr...   \n",
       "\n",
       "                                                 methods  \n",
       "27502  [{'name': 'making the custard', 'steps': [{'he...  "
      ]
     },
     "execution_count": 4,
     "metadata": {},
     "output_type": "execute_result"
    }
   ],
   "source": [
    "articles_df[articles_df['file_id'] == '385799']"
   ]
  },
  {
   "cell_type": "code",
   "execution_count": 5,
   "id": "8c5d606e",
   "metadata": {},
   "outputs": [
    {
     "data": {
      "text/html": [
       "<div>\n",
       "<style scoped>\n",
       "    .dataframe tbody tr th:only-of-type {\n",
       "        vertical-align: middle;\n",
       "    }\n",
       "\n",
       "    .dataframe tbody tr th {\n",
       "        vertical-align: top;\n",
       "    }\n",
       "\n",
       "    .dataframe thead th {\n",
       "        text-align: right;\n",
       "    }\n",
       "</style>\n",
       "<table border=\"1\" class=\"dataframe\">\n",
       "  <thead>\n",
       "    <tr style=\"text-align: right;\">\n",
       "      <th></th>\n",
       "      <th>file_id</th>\n",
       "      <th>goal</th>\n",
       "      <th>goal_description</th>\n",
       "      <th>category_hierarchy</th>\n",
       "      <th>methods</th>\n",
       "    </tr>\n",
       "  </thead>\n",
       "  <tbody>\n",
       "    <tr>\n",
       "      <th>33281</th>\n",
       "      <td>5323060</td>\n",
       "      <td>how to play alak dolak (Ălăk dolăk)</td>\n",
       "      <td>alak dolak (spelled in iranian as Ălăk dolăk) ...</td>\n",
       "      <td>[hobbies and crafts, games]</td>\n",
       "      <td>[{'name': 'preparation', 'steps': [{'headline'...</td>\n",
       "    </tr>\n",
       "  </tbody>\n",
       "</table>\n",
       "</div>"
      ],
      "text/plain": [
       "       file_id                                 goal  \\\n",
       "33281  5323060  how to play alak dolak (Ălăk dolăk)   \n",
       "\n",
       "                                        goal_description  \\\n",
       "33281  alak dolak (spelled in iranian as Ălăk dolăk) ...   \n",
       "\n",
       "                category_hierarchy  \\\n",
       "33281  [hobbies and crafts, games]   \n",
       "\n",
       "                                                 methods  \n",
       "33281  [{'name': 'preparation', 'steps': [{'headline'...  "
      ]
     },
     "execution_count": 5,
     "metadata": {},
     "output_type": "execute_result"
    }
   ],
   "source": [
    "articles_df[articles_df['file_id'] == '5323060']"
   ]
  },
  {
   "cell_type": "markdown",
   "id": "a74a7721",
   "metadata": {},
   "source": [
    "### (2) Remove the two data points from the dataframe whose goals contain non-english words, as the authors did in their experiments."
   ]
  },
  {
   "cell_type": "code",
   "execution_count": 9,
   "id": "81857fa3",
   "metadata": {},
   "outputs": [
    {
     "data": {
      "text/plain": [
       "53187"
      ]
     },
     "execution_count": 9,
     "metadata": {},
     "output_type": "execute_result"
    }
   ],
   "source": [
    "# Remove the two data points from the dataframe whose goals contain non-english words, i.e.\n",
    "# (1) index 27502, file_id 385799, goal \"how to make Éclairs\",\n",
    "# (2) index 33281, file_id 5323060, goal \"how to play alak dolak (Ălăk dolăk)\".\n",
    "\n",
    "articles_df.drop([27502, 33281], inplace=True)\n",
    "len(articles_df)"
   ]
  },
  {
   "cell_type": "code",
   "execution_count": 10,
   "id": "1a203df4",
   "metadata": {},
   "outputs": [
    {
     "data": {
      "text/html": [
       "<div>\n",
       "<style scoped>\n",
       "    .dataframe tbody tr th:only-of-type {\n",
       "        vertical-align: middle;\n",
       "    }\n",
       "\n",
       "    .dataframe tbody tr th {\n",
       "        vertical-align: top;\n",
       "    }\n",
       "\n",
       "    .dataframe thead th {\n",
       "        text-align: right;\n",
       "    }\n",
       "</style>\n",
       "<table border=\"1\" class=\"dataframe\">\n",
       "  <thead>\n",
       "    <tr style=\"text-align: right;\">\n",
       "      <th></th>\n",
       "      <th>file_id</th>\n",
       "      <th>goal</th>\n",
       "      <th>goal_description</th>\n",
       "      <th>category_hierarchy</th>\n",
       "      <th>methods</th>\n",
       "    </tr>\n",
       "  </thead>\n",
       "  <tbody>\n",
       "  </tbody>\n",
       "</table>\n",
       "</div>"
      ],
      "text/plain": [
       "Empty DataFrame\n",
       "Columns: [file_id, goal, goal_description, category_hierarchy, methods]\n",
       "Index: []"
      ]
     },
     "execution_count": 10,
     "metadata": {},
     "output_type": "execute_result"
    }
   ],
   "source": [
    "articles_df[articles_df['file_id'] == '385799']"
   ]
  },
  {
   "cell_type": "code",
   "execution_count": 11,
   "id": "db7cda5d",
   "metadata": {},
   "outputs": [
    {
     "data": {
      "text/html": [
       "<div>\n",
       "<style scoped>\n",
       "    .dataframe tbody tr th:only-of-type {\n",
       "        vertical-align: middle;\n",
       "    }\n",
       "\n",
       "    .dataframe tbody tr th {\n",
       "        vertical-align: top;\n",
       "    }\n",
       "\n",
       "    .dataframe thead th {\n",
       "        text-align: right;\n",
       "    }\n",
       "</style>\n",
       "<table border=\"1\" class=\"dataframe\">\n",
       "  <thead>\n",
       "    <tr style=\"text-align: right;\">\n",
       "      <th></th>\n",
       "      <th>file_id</th>\n",
       "      <th>goal</th>\n",
       "      <th>goal_description</th>\n",
       "      <th>category_hierarchy</th>\n",
       "      <th>methods</th>\n",
       "    </tr>\n",
       "  </thead>\n",
       "  <tbody>\n",
       "  </tbody>\n",
       "</table>\n",
       "</div>"
      ],
      "text/plain": [
       "Empty DataFrame\n",
       "Columns: [file_id, goal, goal_description, category_hierarchy, methods]\n",
       "Index: []"
      ]
     },
     "execution_count": 11,
     "metadata": {},
     "output_type": "execute_result"
    }
   ],
   "source": [
    "articles_df[articles_df['file_id'] == '5323060']"
   ]
  },
  {
   "cell_type": "markdown",
   "id": "a42ba116",
   "metadata": {},
   "source": [
    "### (3) Remove the methods with method_id '1926747_3', '2191502_0' and '985548_2' together with their steps from the dataframe to ensure the dependency parser raises no errors."
   ]
  },
  {
   "cell_type": "code",
   "execution_count": 13,
   "id": "9a67ff31",
   "metadata": {},
   "outputs": [
    {
     "data": {
      "text/plain": [
       "{'1926747': ['1926747_3', '1926747_3_0', '.'],\n",
       " '2191502': ['2191502_0', '2191502_0_0', '.'],\n",
       " '985548': ['985548_2', '985548_2_0', '.']}"
      ]
     },
     "execution_count": 13,
     "metadata": {},
     "output_type": "execute_result"
    }
   ],
   "source": [
    "# Check the number of step headlines in the dataset/dataframe which contain only a single string such as \".\", \",\", \"?\" etc.\n",
    "# Before removing:\n",
    "\n",
    "fid2wrongheadline = dict()\n",
    "for idx, row in articles_df.iterrows():\n",
    "    fid = row['file_id']\n",
    "    for method in row['methods']:\n",
    "        for step in method['steps']:\n",
    "            if len(step['headline']) == 1:\n",
    "                fid2wrongheadline[fid] = [method['method_id'], step['step_id'], step['headline']]\n",
    "                \n",
    "fid2wrongheadline"
   ]
  },
  {
   "cell_type": "code",
   "execution_count": 14,
   "id": "a7c44894",
   "metadata": {},
   "outputs": [],
   "source": [
    "# Remove the methods with method_id '1926747_3', '2191502_0' and '985548_2' together with their steps \n",
    "# from the dataframe.\n",
    "\n",
    "for idx,row in articles_df.iterrows():\n",
    "    for method in row['methods']:\n",
    "        if method['method_id'] in ['1926747_3', '2191502_0', '985548_2']:\n",
    "            row['methods'].remove(method)"
   ]
  },
  {
   "cell_type": "code",
   "execution_count": 15,
   "id": "0eac7455",
   "metadata": {},
   "outputs": [
    {
     "data": {
      "text/plain": [
       "{}"
      ]
     },
     "execution_count": 15,
     "metadata": {},
     "output_type": "execute_result"
    }
   ],
   "source": [
    "# Check the number of step headlines in the dataset/dataframe contain only a single string such as \".\", \",\", \"?\" etc.\n",
    "# After removing:\n",
    "\n",
    "fid2wrongheadline = dict()\n",
    "for idx, row in articles_df.iterrows():\n",
    "    fid = row['file_id']\n",
    "    for method in row['methods']:\n",
    "        for step in method['steps']:\n",
    "            if len(step['headline']) == 1:\n",
    "                fid2wrongheadline[fid] = [method['method_id'], step['step_id'], step['headline']]\n",
    "                \n",
    "fid2wrongheadline"
   ]
  },
  {
   "cell_type": "code",
   "execution_count": 16,
   "id": "afcbad9f",
   "metadata": {},
   "outputs": [
    {
     "data": {
      "text/plain": [
       "53187"
      ]
     },
     "execution_count": 16,
     "metadata": {},
     "output_type": "execute_result"
    }
   ],
   "source": [
    "len(articles_df)"
   ]
  },
  {
   "cell_type": "markdown",
   "id": "5c32e78d",
   "metadata": {},
   "source": [
    "### (4) Write the preprocessed dataframe object to a pickle file for subsequent usage."
   ]
  },
  {
   "cell_type": "code",
   "execution_count": 17,
   "id": "6e23b723",
   "metadata": {},
   "outputs": [],
   "source": [
    "# Write articles_df to articles_df.p file.\n",
    "\n",
    "with open('./output/articles_df.p', 'wb') as file:\n",
    "    pickle.dump(articles_df, file)"
   ]
  },
  {
   "cell_type": "code",
   "execution_count": 18,
   "id": "95a596b6",
   "metadata": {},
   "outputs": [
    {
     "data": {
      "text/html": [
       "<div>\n",
       "<style scoped>\n",
       "    .dataframe tbody tr th:only-of-type {\n",
       "        vertical-align: middle;\n",
       "    }\n",
       "\n",
       "    .dataframe tbody tr th {\n",
       "        vertical-align: top;\n",
       "    }\n",
       "\n",
       "    .dataframe thead th {\n",
       "        text-align: right;\n",
       "    }\n",
       "</style>\n",
       "<table border=\"1\" class=\"dataframe\">\n",
       "  <thead>\n",
       "    <tr style=\"text-align: right;\">\n",
       "      <th></th>\n",
       "      <th>file_id</th>\n",
       "      <th>goal</th>\n",
       "      <th>goal_description</th>\n",
       "      <th>category_hierarchy</th>\n",
       "      <th>methods</th>\n",
       "    </tr>\n",
       "  </thead>\n",
       "  <tbody>\n",
       "    <tr>\n",
       "      <th>0</th>\n",
       "      <td>10000798</td>\n",
       "      <td>how to hang an ironing board</td>\n",
       "      <td>for people who like to have an organized and c...</td>\n",
       "      <td>[home and garden, housekeeping, home organizat...</td>\n",
       "      <td>[{'name': 'hanging an ironing board over a doo...</td>\n",
       "    </tr>\n",
       "    <tr>\n",
       "      <th>1</th>\n",
       "      <td>10000832</td>\n",
       "      <td>how to plant lavender in pots</td>\n",
       "      <td>lavender plants are beautiful and fragrant pla...</td>\n",
       "      <td>[home and garden, gardening, indoor and patio ...</td>\n",
       "      <td>[{'name': 'setting up the right growing condit...</td>\n",
       "    </tr>\n",
       "    <tr>\n",
       "      <th>2</th>\n",
       "      <td>10002000</td>\n",
       "      <td>how to deal with talkative students</td>\n",
       "      <td>delivering the day’s lesson to your class can ...</td>\n",
       "      <td>[education and communications, teaching, class...</td>\n",
       "      <td>[{'name': 'redirecting talkative students', 's...</td>\n",
       "    </tr>\n",
       "    <tr>\n",
       "      <th>3</th>\n",
       "      <td>100021</td>\n",
       "      <td>how to make a dress</td>\n",
       "      <td>ever seen a really gorgeous dress on the runwa...</td>\n",
       "      <td>[personal care and style, clothing, clothes by...</td>\n",
       "      <td>[{'name': 'starting your dress', 'steps': [{'h...</td>\n",
       "    </tr>\n",
       "    <tr>\n",
       "      <th>4</th>\n",
       "      <td>1000266</td>\n",
       "      <td>how to avoid dangerous dog toys</td>\n",
       "      <td>None</td>\n",
       "      <td>[pets and animals, dogs, dog toys and play]</td>\n",
       "      <td>[{'name': 'finding the right toys', 'steps': [...</td>\n",
       "    </tr>\n",
       "    <tr>\n",
       "      <th>...</th>\n",
       "      <td>...</td>\n",
       "      <td>...</td>\n",
       "      <td>...</td>\n",
       "      <td>...</td>\n",
       "      <td>...</td>\n",
       "    </tr>\n",
       "    <tr>\n",
       "      <th>53184</th>\n",
       "      <td>9997212</td>\n",
       "      <td>how to obtain a turkish visa</td>\n",
       "      <td>None</td>\n",
       "      <td>[travel, destinations, asia travel]</td>\n",
       "      <td>[{'name': 'following general application proce...</td>\n",
       "    </tr>\n",
       "    <tr>\n",
       "      <th>53185</th>\n",
       "      <td>9997262</td>\n",
       "      <td>how to relieve a hypertension headache</td>\n",
       "      <td>None</td>\n",
       "      <td>[health, cardiovascular system health, blood h...</td>\n",
       "      <td>[{'name': 'responding immediately to a headach...</td>\n",
       "    </tr>\n",
       "    <tr>\n",
       "      <th>53186</th>\n",
       "      <td>9997619</td>\n",
       "      <td>how to hide electrical outlets</td>\n",
       "      <td>although essential, electrical outlets can be ...</td>\n",
       "      <td>[home and garden, home maintenance, electrical...</td>\n",
       "      <td>[{'name': 'covering outlets', 'steps': [{'head...</td>\n",
       "    </tr>\n",
       "    <tr>\n",
       "      <th>53187</th>\n",
       "      <td>9997744</td>\n",
       "      <td>how to hang a volleyball net</td>\n",
       "      <td>whether played indoors or outdoors, volleyball...</td>\n",
       "      <td>[sports and fitness, team sports, volleyball]</td>\n",
       "      <td>[{'name': 'securing indoor posts', 'steps': [{...</td>\n",
       "    </tr>\n",
       "    <tr>\n",
       "      <th>53188</th>\n",
       "      <td>9997847</td>\n",
       "      <td>how to keep owls away from chickens</td>\n",
       "      <td>just like hawks, owls are predatory birds that...</td>\n",
       "      <td>[home and garden, housekeeping, pest control, ...</td>\n",
       "      <td>[{'name': 'taking preventative measures', 'ste...</td>\n",
       "    </tr>\n",
       "  </tbody>\n",
       "</table>\n",
       "<p>53187 rows × 5 columns</p>\n",
       "</div>"
      ],
      "text/plain": [
       "        file_id                                    goal  \\\n",
       "0      10000798            how to hang an ironing board   \n",
       "1      10000832           how to plant lavender in pots   \n",
       "2      10002000     how to deal with talkative students   \n",
       "3        100021                     how to make a dress   \n",
       "4       1000266         how to avoid dangerous dog toys   \n",
       "...         ...                                     ...   \n",
       "53184   9997212            how to obtain a turkish visa   \n",
       "53185   9997262  how to relieve a hypertension headache   \n",
       "53186   9997619          how to hide electrical outlets   \n",
       "53187   9997744            how to hang a volleyball net   \n",
       "53188   9997847     how to keep owls away from chickens   \n",
       "\n",
       "                                        goal_description  \\\n",
       "0      for people who like to have an organized and c...   \n",
       "1      lavender plants are beautiful and fragrant pla...   \n",
       "2      delivering the day’s lesson to your class can ...   \n",
       "3      ever seen a really gorgeous dress on the runwa...   \n",
       "4                                                   None   \n",
       "...                                                  ...   \n",
       "53184                                               None   \n",
       "53185                                               None   \n",
       "53186  although essential, electrical outlets can be ...   \n",
       "53187  whether played indoors or outdoors, volleyball...   \n",
       "53188  just like hawks, owls are predatory birds that...   \n",
       "\n",
       "                                      category_hierarchy  \\\n",
       "0      [home and garden, housekeeping, home organizat...   \n",
       "1      [home and garden, gardening, indoor and patio ...   \n",
       "2      [education and communications, teaching, class...   \n",
       "3      [personal care and style, clothing, clothes by...   \n",
       "4            [pets and animals, dogs, dog toys and play]   \n",
       "...                                                  ...   \n",
       "53184                [travel, destinations, asia travel]   \n",
       "53185  [health, cardiovascular system health, blood h...   \n",
       "53186  [home and garden, home maintenance, electrical...   \n",
       "53187      [sports and fitness, team sports, volleyball]   \n",
       "53188  [home and garden, housekeeping, pest control, ...   \n",
       "\n",
       "                                                 methods  \n",
       "0      [{'name': 'hanging an ironing board over a doo...  \n",
       "1      [{'name': 'setting up the right growing condit...  \n",
       "2      [{'name': 'redirecting talkative students', 's...  \n",
       "3      [{'name': 'starting your dress', 'steps': [{'h...  \n",
       "4      [{'name': 'finding the right toys', 'steps': [...  \n",
       "...                                                  ...  \n",
       "53184  [{'name': 'following general application proce...  \n",
       "53185  [{'name': 'responding immediately to a headach...  \n",
       "53186  [{'name': 'covering outlets', 'steps': [{'head...  \n",
       "53187  [{'name': 'securing indoor posts', 'steps': [{...  \n",
       "53188  [{'name': 'taking preventative measures', 'ste...  \n",
       "\n",
       "[53187 rows x 5 columns]"
      ]
     },
     "execution_count": 18,
     "metadata": {},
     "output_type": "execute_result"
    }
   ],
   "source": [
    "articles_df"
   ]
  },
  {
   "cell_type": "code",
   "execution_count": null,
   "id": "2bf1eead",
   "metadata": {},
   "outputs": [],
   "source": []
  }
 ],
 "metadata": {
  "kernelspec": {
   "display_name": "Python 3 (ipykernel)",
   "language": "python",
   "name": "python3"
  },
  "language_info": {
   "codemirror_mode": {
    "name": "ipython",
    "version": 3
   },
   "file_extension": ".py",
   "mimetype": "text/x-python",
   "name": "python",
   "nbconvert_exporter": "python",
   "pygments_lexer": "ipython3",
   "version": "3.10.8"
  }
 },
 "nbformat": 4,
 "nbformat_minor": 5
}
