{
 "cells": [
  {
   "cell_type": "code",
   "execution_count": 1,
   "id": "d8acbe39",
   "metadata": {},
   "outputs": [],
   "source": [
    "import numpy as np"
   ]
  },
  {
   "cell_type": "markdown",
   "id": "e045027b",
   "metadata": {},
   "source": [
    "### Event"
   ]
  },
  {
   "cell_type": "markdown",
   "id": "8982eca1",
   "metadata": {},
   "source": [
    "#### Multiargument (last4)"
   ]
  },
  {
   "cell_type": "code",
   "execution_count": 2,
   "id": "51101625",
   "metadata": {},
   "outputs": [],
   "source": [
    "EVENT_mult = np.array([\n",
    "    [0.8050, 0.8049, 0.8058, 0.8057, 0.8057], # EVENT_mult_last4_acc1\n",
    "    [0.2085, 0.2070, 0.2065, 0.2064, 0.2074], # EVENT_mult_last4_acc2\n",
    "])"
   ]
  },
  {
   "cell_type": "code",
   "execution_count": 3,
   "id": "a7a176cf",
   "metadata": {},
   "outputs": [
    {
     "data": {
      "text/plain": [
       "array([0.00038678, 0.00076053])"
      ]
     },
     "execution_count": 3,
     "metadata": {},
     "output_type": "execute_result"
    }
   ],
   "source": [
    "np.std(EVENT_mult, axis=1)"
   ]
  },
  {
   "cell_type": "code",
   "execution_count": 4,
   "id": "6f575faa",
   "metadata": {},
   "outputs": [],
   "source": [
    "EVENT_mult = np.array([\n",
    "    [0.7636, 0.7677, 0.7698, 0.7614, 0.7696], # EVENT_mult_last4_acc1\n",
    "    [0.1777, 0.1824, 0.1795, 0.1739, 0.1810], # EVENT_mult_last4_acc2\n",
    "])"
   ]
  },
  {
   "cell_type": "code",
   "execution_count": 5,
   "id": "f6189e88",
   "metadata": {},
   "outputs": [
    {
     "data": {
      "text/plain": [
       "array([0.00335643, 0.00294822])"
      ]
     },
     "execution_count": 5,
     "metadata": {},
     "output_type": "execute_result"
    }
   ],
   "source": [
    "np.std(EVENT_mult, axis=1)"
   ]
  },
  {
   "cell_type": "code",
   "execution_count": null,
   "id": "5dbe779f",
   "metadata": {},
   "outputs": [],
   "source": []
  }
 ],
 "metadata": {
  "kernelspec": {
   "display_name": "Python 3 (ipykernel)",
   "language": "python",
   "name": "python3"
  },
  "language_info": {
   "codemirror_mode": {
    "name": "ipython",
    "version": 3
   },
   "file_extension": ".py",
   "mimetype": "text/x-python",
   "name": "python",
   "nbconvert_exporter": "python",
   "pygments_lexer": "ipython3",
   "version": "3.10.8"
  }
 },
 "nbformat": 4,
 "nbformat_minor": 5
}
