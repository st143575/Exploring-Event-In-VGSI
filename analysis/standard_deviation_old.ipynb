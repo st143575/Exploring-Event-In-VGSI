{
 "cells": [
  {
   "cell_type": "code",
   "execution_count": 1,
   "id": "d8acbe39",
   "metadata": {},
   "outputs": [],
   "source": [
    "import numpy as np"
   ]
  },
  {
   "cell_type": "markdown",
   "id": "64959747",
   "metadata": {},
   "source": [
    "### Sentence"
   ]
  },
  {
   "cell_type": "code",
   "execution_count": 4,
   "id": "4a55bbab",
   "metadata": {},
   "outputs": [],
   "source": [
    "SENTENCE = np.array([\n",
    "    [0.8155, 0.8170, 0.8148, 0.8150, 0.8172], # SENTENCE_first4_acc1\n",
    "    [0.1983, 0.2028, 0.2016, 0.2027, 0.1991], # SENTENCE_first4_acc2\n",
    "    [0.8324, 0.8257, 0.8318, 0.8264, 0.8208], # SENTENCE_middle4_acc1\n",
    "    [0.2314, 0.2231, 0.2269, 0.2215, 0.2143], # SENTENCE_middle4_acc2\n",
    "    [0.8232, 0.8158, 0.8280, 0.8168, 0.8200], # SENTENCE_last4_acc1\n",
    "    [0.2301, 0.2148, 0.2340, 0.2177, 0.2191], # SENTENCE_last4_acc2\n",
    "])"
   ]
  },
  {
   "cell_type": "code",
   "execution_count": 6,
   "id": "0114af6f",
   "metadata": {},
   "outputs": [
    {
     "data": {
      "text/plain": [
       "array([0.00100797, 0.00186226, 0.00428504, 0.0057053 , 0.00445493,\n",
       "       0.00750802])"
      ]
     },
     "execution_count": 6,
     "metadata": {},
     "output_type": "execute_result"
    }
   ],
   "source": [
    "np.std(SENTENCE, axis=1)"
   ]
  },
  {
   "cell_type": "markdown",
   "id": "e045027b",
   "metadata": {},
   "source": [
    "### Event\n",
    "#### Relational"
   ]
  },
  {
   "cell_type": "code",
   "execution_count": 7,
   "id": "d871fc6a",
   "metadata": {},
   "outputs": [],
   "source": [
    "EVENT_rel = np.array([\n",
    "    [0.6845, 0.6938, 0.6877, 0.6900, 0.6879], # EVENT_rel_first4_acc1\n",
    "    [0.0964, 0.1016, 0.0959, 0.0968, 0.1037], # EVENT_rel_first4_acc2\n",
    "    [0.7037, 0.7054, 0.7031, 0.6992, 0.7058], # EVENT_rel_middle4_acc1\n",
    "    [0.1101, 0.1115, 0.1120, 0.1079, 0.1144], # EVENT_rel_middle4_acc2\n",
    "    [0.6863, 0.6893, 0.6974, 0.6933, 0.6887], # EVENT_rel_last4_acc1\n",
    "    [0.1064, 0.1170, 0.1183, 0.1171, 0.1159], # EVENT_rel_last4_acc2\n",
    "])"
   ]
  },
  {
   "cell_type": "code",
   "execution_count": 8,
   "id": "0acf622f",
   "metadata": {},
   "outputs": [
    {
     "data": {
      "text/plain": [
       "array([0.00306425, 0.0031619 , 0.00234828, 0.00214793, 0.00391203,\n",
       "       0.0043371 ])"
      ]
     },
     "execution_count": 8,
     "metadata": {},
     "output_type": "execute_result"
    }
   ],
   "source": [
    "np.std(EVENT_rel, axis=1)"
   ]
  },
  {
   "cell_type": "markdown",
   "id": "8982eca1",
   "metadata": {},
   "source": [
    "#### Multiargument"
   ]
  },
  {
   "cell_type": "code",
   "execution_count": 9,
   "id": "51101625",
   "metadata": {},
   "outputs": [],
   "source": [
    "EVENT_mult = np.array([\n",
    "    [0.7628, 0.7540, 0.7634, 0.7552, 0.7554], # EVENT_mult_first4_acc1\n",
    "    [0.1546, 0.1444, 0.1594, 0.1550, 0.1561], # EVENT_mult_first4_acc2\n",
    "    [0.7712, 0.7701, 0.7752, 0.7578, 0.7724], # EVENT_mult_middle4_acc1\n",
    "    [0.1706, 0.1708, 0.1792, 0.1503, 0.1722], # EVENT_mult_middle4_acc2\n",
    "    [0.7744, 0.7744, 0.7782, 0.7728, 0.7653], # EVENT_mult_last4_acc1\n",
    "    [0.1875, 0.1885, 0.1972, 0.1844, 0.1835], # EVENT_mult_last4_acc2\n",
    "])"
   ]
  },
  {
   "cell_type": "code",
   "execution_count": 10,
   "id": "a7a176cf",
   "metadata": {},
   "outputs": [
    {
     "data": {
      "text/plain": [
       "array([0.00406625, 0.00504063, 0.00601518, 0.00968554, 0.00424942,\n",
       "       0.00486021])"
      ]
     },
     "execution_count": 10,
     "metadata": {},
     "output_type": "execute_result"
    }
   ],
   "source": [
    "np.std(EVENT_mult, axis=1)"
   ]
  },
  {
   "cell_type": "markdown",
   "id": "85612f5f",
   "metadata": {},
   "source": [
    "### Sentence+Event\n",
    "#### Sentence+Relational"
   ]
  },
  {
   "cell_type": "code",
   "execution_count": 11,
   "id": "fdc89979",
   "metadata": {},
   "outputs": [],
   "source": [
    "SENTEVENT_rel = np.array([\n",
    "    [0.7969, 0.8049, 0.8014, 0.7972, 0.7942], # SENTEVENT_rel_first4_acc1\n",
    "    [0.1776, 0.1886, 0.1857, 0.1732, 0.1693], # SENTEVENT_rel_first4_acc2\n",
    "    [0.8171, 0.8137, 0.8216, 0.8237, 0.8150], # SENTEVENT_rel_middle4_acc1\n",
    "    [0.2181, 0.2079, 0.2097, 0.2146, 0.2110], # SENTEVENT_rel_middle4_acc2\n",
    "    [0.8016, 0.7930, 0.7972, 0.8099, 0.8106], # SENTEVENT_rel_last4_acc1\n",
    "    [0.1956, 0.1896, 0.1984, 0.2200, 0.2070], # SENTEVENT_rel_last4_acc2\n",
    "])"
   ]
  },
  {
   "cell_type": "code",
   "execution_count": 12,
   "id": "029b2cd9",
   "metadata": {},
   "outputs": [
    {
     "data": {
      "text/plain": [
       "array([0.00377433, 0.00730299, 0.00383427, 0.00365327, 0.00692116,\n",
       "       0.01055091])"
      ]
     },
     "execution_count": 12,
     "metadata": {},
     "output_type": "execute_result"
    }
   ],
   "source": [
    "np.std(SENTEVENT_rel, axis=1)"
   ]
  },
  {
   "cell_type": "markdown",
   "id": "f6af7ef3",
   "metadata": {},
   "source": [
    "#### Sentence+Multiargument"
   ]
  },
  {
   "cell_type": "code",
   "execution_count": 16,
   "id": "f1f26fc4",
   "metadata": {},
   "outputs": [],
   "source": [
    "SENTEVENT_mult = np.array([\n",
    "    [0.7942, 0.8207, 0.8122, 0.8095, 0.8057], # SENTEVENT_mult_first4_acc1\n",
    "    [0.1693, 0.2115, 0.1987, 0.1935, 0.1907], # SENTEVENT_mult_first4_acc2\n",
    "    [0.8251, 0.8226, 0.8253, 0.8227, 0.8241], # SENTEVENT_mult_middle4_acc1\n",
    "    [0.2195, 0.2181, 0.2277, 0.2205, 0.2187], # SENTEVENT_mult_middle4_acc2\n",
    "    [0.8106, 0.8169, 0.8117, 0.8184, 0.7978], # SENTEVENT_mult_last4_acc1\n",
    "    [0.2070, 0.2206, 0.2197, 0.2233, 0.2028], # SENTEVENT_mult_last4_acc2\n",
    "])"
   ]
  },
  {
   "cell_type": "code",
   "execution_count": 18,
   "id": "12f91f6b",
   "metadata": {},
   "outputs": [
    {
     "data": {
      "text/plain": [
       "array([0.00867009, 0.01372321, 0.00114473, 0.00349399, 0.00727225,\n",
       "       0.0081813 ])"
      ]
     },
     "execution_count": 18,
     "metadata": {},
     "output_type": "execute_result"
    }
   ],
   "source": [
    "np.std(SENTEVENT_mult, axis=1)"
   ]
  },
  {
   "cell_type": "code",
   "execution_count": null,
   "id": "6f575faa",
   "metadata": {},
   "outputs": [],
   "source": []
  },
  {
   "cell_type": "code",
   "execution_count": null,
   "id": "f6189e88",
   "metadata": {},
   "outputs": [],
   "source": []
  }
 ],
 "metadata": {
  "kernelspec": {
   "display_name": "Python 3 (ipykernel)",
   "language": "python",
   "name": "python3"
  },
  "language_info": {
   "codemirror_mode": {
    "name": "ipython",
    "version": 3
   },
   "file_extension": ".py",
   "mimetype": "text/x-python",
   "name": "python",
   "nbconvert_exporter": "python",
   "pygments_lexer": "ipython3",
   "version": "3.10.8"
  }
 },
 "nbformat": 4,
 "nbformat_minor": 5
}
