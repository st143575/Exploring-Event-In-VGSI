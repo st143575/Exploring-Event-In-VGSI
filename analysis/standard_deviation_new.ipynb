{
 "cells": [
  {
   "cell_type": "code",
   "execution_count": 1,
   "id": "d8acbe39",
   "metadata": {},
   "outputs": [],
   "source": [
    "import numpy as np"
   ]
  },
  {
   "cell_type": "markdown",
   "id": "64959747",
   "metadata": {},
   "source": [
    "### Sentence"
   ]
  },
  {
   "cell_type": "code",
   "execution_count": 2,
   "id": "4a55bbab",
   "metadata": {},
   "outputs": [],
   "source": [
    "SENTENCE = np.array([\n",
    "    [0.8112, 0.8116, 0.8121, 0.8127, 0.8122], # SENTENCE_first4_acc1\n",
    "    [0.1980, 0.1916, 0.1998, 0.1983, 0.1975], # SENTENCE_first4_acc2\n",
    "    [0.8327, 0.8414, 0.8153, 0.8338, 0.8135], # SENTENCE_middle4_acc1\n",
    "    [0.2321, 0.2447, 0.2023, 0.2300, 0.1993], # SENTENCE_middle4_acc2\n",
    "    [0.8468, 0.8454, 0.8452, 0.8475, 0.8441], # SENTENCE_last4_acc1\n",
    "    [0.2603, 0.2583, 0.2609, 0.2637, 0.2579], # SENTENCE_last4_acc2\n",
    "])"
   ]
  },
  {
   "cell_type": "code",
   "execution_count": 3,
   "id": "0114af6f",
   "metadata": {},
   "outputs": [
    {
     "data": {
      "text/plain": [
       "array([0.00051614, 0.00282602, 0.01099684, 0.01779982, 0.0012083 ,\n",
       "       0.00208077])"
      ]
     },
     "execution_count": 3,
     "metadata": {},
     "output_type": "execute_result"
    }
   ],
   "source": [
    "np.std(SENTENCE, axis=1)"
   ]
  },
  {
   "cell_type": "markdown",
   "id": "e045027b",
   "metadata": {},
   "source": [
    "### Event\n",
    "#### Relational"
   ]
  },
  {
   "cell_type": "code",
   "execution_count": 4,
   "id": "d871fc6a",
   "metadata": {},
   "outputs": [],
   "source": [
    "EVENT_rel = np.array([\n",
    "    [0.7082, 0.7206, 0.7142, 0.7218, 0.7147], # EVENT_rel_first4_acc1\n",
    "    [0.1162, 0.1262, 0.1215, 0.1232, 0.1209], # EVENT_rel_first4_acc2\n",
    "    [0.7484, 0.7498, 0.7483, 0.7474, 0.7493], # EVENT_rel_middle4_acc1\n",
    "    [0.1506, 0.1514, 0.1466, 0.1471, 0.1484], # EVENT_rel_middle4_acc2\n",
    "    [0.7588, 0.7602, 0.7593, 0.7594, 0.7579], # EVENT_rel_last4_acc1\n",
    "    [0.1677, 0.1698, 0.1665, 0.1663, 0.1654], # EVENT_rel_last4_acc2\n",
    "])"
   ]
  },
  {
   "cell_type": "code",
   "execution_count": 5,
   "id": "0acf622f",
   "metadata": {},
   "outputs": [
    {
     "data": {
      "text/plain": [
       "array([0.00490958, 0.00326741, 0.0008357 , 0.00189145, 0.00075736,\n",
       "       0.00151868])"
      ]
     },
     "execution_count": 5,
     "metadata": {},
     "output_type": "execute_result"
    }
   ],
   "source": [
    "np.std(EVENT_rel, axis=1)"
   ]
  },
  {
   "cell_type": "markdown",
   "id": "8982eca1",
   "metadata": {},
   "source": [
    "#### Multiargument"
   ]
  },
  {
   "cell_type": "code",
   "execution_count": 6,
   "id": "51101625",
   "metadata": {},
   "outputs": [],
   "source": [
    "EVENT_mult = np.array([\n",
    "    [0.7718, 0.7709, 0.7696, 0.7689, 0.7689], # EVENT_mult_first4_acc1\n",
    "    [0.1636, 0.1591, 0.1569, 0.1587, 0.1574], # EVENT_mult_first4_acc2\n",
    "    [0.7982, 0.7977, 0.7990, 0.7996, 0.7998], # EVENT_mult_middle4_acc1\n",
    "    [0.1994, 0.1887, 0.1893, 0.1935, 0.1886], # EVENT_mult_middle4_acc2\n",
    "    [0.8092, 0.8081, 0.8074, 0.8092, 0.8073], # EVENT_mult_last4_acc1\n",
    "    [0.2112, 0.2121, 0.2087, 0.2158, 0.2124], # EVENT_mult_last4_acc2\n",
    "])"
   ]
  },
  {
   "cell_type": "code",
   "execution_count": 7,
   "id": "a7a176cf",
   "metadata": {},
   "outputs": [
    {
     "data": {
      "text/plain": [
       "array([0.00115135, 0.002372  , 0.00080399, 0.00416413, 0.0008309 ,\n",
       "       0.00228613])"
      ]
     },
     "execution_count": 7,
     "metadata": {},
     "output_type": "execute_result"
    }
   ],
   "source": [
    "np.std(EVENT_mult, axis=1)"
   ]
  },
  {
   "cell_type": "markdown",
   "id": "85612f5f",
   "metadata": {},
   "source": [
    "### Sentence+Event\n",
    "#### Sentence+Relational"
   ]
  },
  {
   "cell_type": "code",
   "execution_count": 8,
   "id": "fdc89979",
   "metadata": {},
   "outputs": [],
   "source": [
    "SENTEVENT_rel = np.array([\n",
    "    [0.8047, 0.8039, 0.8039, 0.8047, 0.8019], # SENTEVENT_rel_first4_acc1\n",
    "    [0.1860, 0.1883, 0.1874, 0.1850, 0.1842], # SENTEVENT_rel_first4_acc2\n",
    "    [0.8063, 0.8027, 0.8252, 0.8280, 0.8274], # SENTEVENT_rel_middle4_acc1\n",
    "    [0.1842, 0.1807, 0.2092, 0.2218, 0.2220], # SENTEVENT_rel_middle4_acc2\n",
    "    [0.8430, 0.8443, 0.8327, 0.8425, 0.8430], # SENTEVENT_rel_last4_acc1\n",
    "    [0.2599, 0.2568, 0.2281, 0.2553, 0.2577], # SENTEVENT_rel_last4_acc2\n",
    "])"
   ]
  },
  {
   "cell_type": "code",
   "execution_count": 9,
   "id": "029b2cd9",
   "metadata": {},
   "outputs": [
    {
     "data": {
      "text/plain": [
       "array([0.0010245 , 0.00150519, 0.01105575, 0.01789932, 0.00424217,\n",
       "       0.01182431])"
      ]
     },
     "execution_count": 9,
     "metadata": {},
     "output_type": "execute_result"
    }
   ],
   "source": [
    "np.std(SENTEVENT_rel, axis=1)"
   ]
  },
  {
   "cell_type": "markdown",
   "id": "f6af7ef3",
   "metadata": {},
   "source": [
    "#### Sentence+Multiargument"
   ]
  },
  {
   "cell_type": "code",
   "execution_count": 10,
   "id": "f1f26fc4",
   "metadata": {},
   "outputs": [],
   "source": [
    "SENTEVENT_mult = np.array([\n",
    "    [0.8080, 0.8104, 0.8107, 0.8083, 0.8111], # SENTEVENT_mult_first4_acc1\n",
    "    [0.1945, 0.1983, 0.1972, 0.1907, 0.1998], # SENTEVENT_mult_first4_acc2\n",
    "    [0.8301, 0.8320, 0.8391, 0.8282, 0.8102], # SENTEVENT_mult_middle4_acc1\n",
    "    [0.2291, 0.2282, 0.2409, 0.2259, 0.1946], # SENTEVENT_mult_middle4_acc2\n",
    "    [0.8464, 0.8458, 0.8476, 0.8472, 0.8460], # SENTEVENT_mult_last4_acc1\n",
    "    [0.2593, 0.2660, 0.2655, 0.2640, 0.2641], # SENTEVENT_mult_last4_acc2\n",
    "])"
   ]
  },
  {
   "cell_type": "code",
   "execution_count": 11,
   "id": "12f91f6b",
   "metadata": {},
   "outputs": [
    {
     "data": {
      "text/plain": [
       "array([0.00128841, 0.00320811, 0.00959654, 0.01547186, 0.00069282,\n",
       "       0.00237099])"
      ]
     },
     "execution_count": 11,
     "metadata": {},
     "output_type": "execute_result"
    }
   ],
   "source": [
    "np.std(SENTEVENT_mult, axis=1)"
   ]
  },
  {
   "cell_type": "code",
   "execution_count": null,
   "id": "6f575faa",
   "metadata": {},
   "outputs": [],
   "source": []
  },
  {
   "cell_type": "code",
   "execution_count": null,
   "id": "f6189e88",
   "metadata": {},
   "outputs": [],
   "source": []
  }
 ],
 "metadata": {
  "kernelspec": {
   "display_name": "Python 3 (ipykernel)",
   "language": "python",
   "name": "python3"
  },
  "language_info": {
   "codemirror_mode": {
    "name": "ipython",
    "version": 3
   },
   "file_extension": ".py",
   "mimetype": "text/x-python",
   "name": "python",
   "nbconvert_exporter": "python",
   "pygments_lexer": "ipython3",
   "version": "3.10.8"
  }
 },
 "nbformat": 4,
 "nbformat_minor": 5
}
